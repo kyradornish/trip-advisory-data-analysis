{
 "cells": [
  {
   "cell_type": "markdown",
   "metadata": {},
   "source": [
    "## TripAdvisor Restaurant Reviews Data Analysis"
   ]
  },
  {
   "cell_type": "code",
   "execution_count": 1,
   "metadata": {},
   "outputs": [],
   "source": [
    "import unicodecsv as ucsv"
   ]
  },
  {
   "cell_type": "code",
   "execution_count": 2,
   "metadata": {},
   "outputs": [],
   "source": [
    "ta_file = './ta_restaurants_curated.csv'"
   ]
  },
  {
   "cell_type": "code",
   "execution_count": 3,
   "metadata": {},
   "outputs": [],
   "source": [
    "def read_file(filename):\n",
    "    with open(filename, 'rb') as f:\n",
    "        reader = ucsv.DictReader(f) \n",
    "        data = list(reader) \n",
    "    return data\n",
    "\n",
    "ta = read_file(ta_file)"
   ]
  },
  {
   "cell_type": "code",
   "execution_count": 4,
   "metadata": {},
   "outputs": [
    {
     "data": {
      "text/plain": [
       "OrderedDict([('', '0'),\n",
       "             ('Name', \"Martine of Martine's Table\"),\n",
       "             ('City', 'Amsterdam'),\n",
       "             ('Cuisine Style', \"['French', 'Dutch', 'European']\"),\n",
       "             ('Ranking', '1.0'),\n",
       "             ('Rating', '5.0'),\n",
       "             ('Price Range', '$$ - $$$'),\n",
       "             ('Number of Reviews', '136.0'),\n",
       "             ('Reviews',\n",
       "              \"[['Just like home', 'A Warm Welcome to Wintry Amsterdam'], ['01/03/2018', '01/01/2018']]\"),\n",
       "             ('URL_TA',\n",
       "              '/Restaurant_Review-g188590-d11752080-Reviews-Martine_of_Martine_s_Table-Amsterdam_North_Holland_Province.html'),\n",
       "             ('ID_TA', 'd11752080')])"
      ]
     },
     "execution_count": 4,
     "metadata": {},
     "output_type": "execute_result"
    }
   ],
   "source": [
    "ta[0]"
   ]
  },
  {
   "cell_type": "code",
   "execution_count": 5,
   "metadata": {},
   "outputs": [
    {
     "data": {
      "text/plain": [
       "OrderedDict([('', 0),\n",
       "             ('Name', \"Martine of Martine's Table\"),\n",
       "             ('City', 'Amsterdam'),\n",
       "             ('Cuisine Style', \"['French', 'Dutch', 'European']\"),\n",
       "             ('Ranking', 1.0),\n",
       "             ('Rating', 5.0),\n",
       "             ('Price Range', '$$ - $$$'),\n",
       "             ('Number of Reviews', 136.0),\n",
       "             ('Reviews',\n",
       "              \"[['Just like home', 'A Warm Welcome to Wintry Amsterdam'], ['01/03/2018', '01/01/2018']]\"),\n",
       "             ('URL_TA',\n",
       "              '/Restaurant_Review-g188590-d11752080-Reviews-Martine_of_Martine_s_Table-Amsterdam_North_Holland_Province.html'),\n",
       "             ('ID_TA', 'd11752080')])"
      ]
     },
     "execution_count": 5,
     "metadata": {},
     "output_type": "execute_result"
    }
   ],
   "source": [
    "def parse_int(integer):\n",
    "    if integer == '':\n",
    "        return None\n",
    "    else:\n",
    "        return int(integer)\n",
    "    \n",
    "def parse_float(float_num):\n",
    "    if float_num == '':\n",
    "        return 0.0\n",
    "    else:\n",
    "        return float(float_num)\n",
    "    \n",
    "for review in ta:\n",
    "    review[''] = parse_int(review[''])\n",
    "    review['Ranking'] = parse_float(review['Ranking'])\n",
    "    review['Rating'] = parse_float(review['Rating'])\n",
    "    review['Number of Reviews'] = parse_float(review['Number of Reviews'])\n",
    "    \n",
    "ta[0]"
   ]
  },
  {
   "cell_type": "code",
   "execution_count": 6,
   "metadata": {
    "scrolled": true
   },
   "outputs": [
    {
     "name": "stdout",
     "output_type": "stream",
     "text": [
      "125527\n"
     ]
    }
   ],
   "source": [
    "print(len(ta))"
   ]
  },
  {
   "cell_type": "markdown",
   "metadata": {},
   "source": [
    "#### Good vs bad reviews"
   ]
  },
  {
   "cell_type": "code",
   "execution_count": 148,
   "metadata": {},
   "outputs": [
    {
     "name": "stdout",
     "output_type": "stream",
     "text": [
      "There are 12112 poor reviews and 82426 good reviews\n",
      "9.648920152636485% of the total reviews are poor\n",
      "65.66396074151378% of the total reviews are good\n"
     ]
    }
   ],
   "source": [
    "num_bad_rating = 0\n",
    "num_good_rating = 0\n",
    "\n",
    "for review in ta:\n",
    "    if review['Rating'] <= 2:\n",
    "        num_bad_rating += 1\n",
    "    elif review['Rating'] >= 4:\n",
    "        num_good_rating += 1\n",
    "        \n",
    "percent_bad_rating = (num_bad_rating/len(ta)*100)\n",
    "percent_good_rating = (num_good_rating/len(ta)*100)\n",
    "        \n",
    "print(\"There are {} poor reviews and {} good reviews\".format(num_bad_rating, num_good_rating))\n",
    "print(\"{}% of the total reviews are poor\".format(percent_bad_rating))\n",
    "print(\"{}% of the total reviews are good\".format(percent_good_rating))"
   ]
  },
  {
   "cell_type": "markdown",
   "metadata": {},
   "source": [
    "#### Reviews per city"
   ]
  },
  {
   "cell_type": "code",
   "execution_count": 35,
   "metadata": {
    "scrolled": true
   },
   "outputs": [
    {
     "name": "stdout",
     "output_type": "stream",
     "text": [
      "['Amsterdam', 'Athens', 'Barcelona', 'Berlin', 'Bratislava', 'Brussels', 'Budapest', 'Copenhagen', 'Dublin', 'Edinburgh', 'Geneva', 'Hamburg', 'Helsinki', 'Krakow', 'Lisbon', 'Ljubljana', 'London', 'Luxembourg', 'Lyon', 'Madrid', 'Milan', 'Munich', 'Oporto', 'Oslo', 'Paris', 'Prague', 'Rome', 'Stockholm', 'Vienna', 'Warsaw', 'Zurich']\n"
     ]
    }
   ],
   "source": [
    "def unique_info(data):\n",
    "    unique_set = set()\n",
    "    for review in data:\n",
    "        unique_set.add(review['City'])\n",
    "    return unique_set\n",
    "    \n",
    "unique_cities = unique_info(ta)\n",
    "print(sorted(unique_cities))"
   ]
  },
  {
   "cell_type": "code",
   "execution_count": 55,
   "metadata": {
    "scrolled": true
   },
   "outputs": [
    {
     "name": "stdout",
     "output_type": "stream",
     "text": [
      "Athens 1938\n",
      "Amsterdam 3434\n",
      "Barcelona 8425\n",
      "Berlin 7078\n",
      "Bratislava 1067\n",
      "Brussels 3204\n",
      "Budapest 2606\n",
      "Copenhagen 2109\n",
      "Dublin 2082\n",
      "Edinburgh 1865\n",
      "Geneva 1572\n",
      "Hamburg 3131\n",
      "Helsinki 1228\n",
      "Krakow 1354\n",
      "Lisbon 3986\n",
      "Ljubljana 501\n",
      "London 18212\n",
      "Luxemborg 657\n",
      "Lyon 2930\n",
      "Madrid 9543\n",
      "Milan 6687\n",
      "Munich 2995\n",
      "Oporto 1580\n",
      "Paris 14874\n",
      "Prague 4859\n",
      "Rome 5949\n",
      "Stockholm 2705\n",
      "Vienna 3724\n",
      "Warsaw 2352\n",
      "Zurich 1667\n"
     ]
    }
   ],
   "source": [
    "#Super long way to get how many reviews are in each city:\n",
    "def city_count(data, city):\n",
    "    count = 0\n",
    "    for review in data:\n",
    "        if review['City'] == city:\n",
    "            count += 1\n",
    "    return count\n",
    "\n",
    "def city_reviews(data, city):\n",
    "    reviews = []\n",
    "    for review in data:\n",
    "        if review['City'] == city:\n",
    "            reviews.append(review)\n",
    "    return reviews\n",
    "        \n",
    "athens_count = city_count(ta, \"Athens\")\n",
    "amsterdam_count = city_count(ta, \"Amsterdam\")\n",
    "barcelona_count = city_count(ta, \"Barcelona\")\n",
    "berlin_count = city_count(ta, \"Berlin\")\n",
    "bratislava_count = city_count(ta, \"Bratislava\")\n",
    "brussels_count = city_count(ta, \"Brussels\")\n",
    "budapest_count = city_count(ta, \"Budapest\")\n",
    "copenhagen_count = city_count(ta, \"Copenhagen\")\n",
    "dublin_count = city_count(ta, \"Dublin\")\n",
    "edinburgh_count = city_count(ta, \"Edinburgh\")\n",
    "geneva_count = city_count(ta, \"Geneva\")\n",
    "hamburg_count = city_count(ta, \"Hamburg\")\n",
    "helsinki_count = city_count(ta, \"Helsinki\")\n",
    "krakow_count = city_count(ta, \"Krakow\")\n",
    "lisbon_count = city_count(ta, \"Lisbon\")\n",
    "ljubljana_count = city_count(ta, \"Ljubljana\")\n",
    "london_count = city_count(ta, \"London\")\n",
    "luxembourg_count = city_count(ta, \"Luxembourg\")\n",
    "lyon_count = city_count(ta, \"Lyon\")\n",
    "madrid_count = city_count(ta, \"Madrid\")\n",
    "milan_count = city_count(ta, \"Milan\")\n",
    "munich_count = city_count(ta, \"Munich\")\n",
    "oporto_count = city_count(ta, \"Oporto\")\n",
    "paris_count = city_count(ta, \"Paris\")\n",
    "prague_count = city_count(ta, \"Prague\")\n",
    "rome_count = city_count(ta, \"Rome\")\n",
    "stockholm_count = city_count(ta, \"Stockholm\")\n",
    "vienna_count = city_count(ta, \"Vienna\")\n",
    "warsaw_count = city_count(ta, \"Warsaw\")\n",
    "zurich_count = city_count(ta, \"Zurich\")\n",
    "\n",
    "\n",
    "print(\"Athens\", athens_count)\n",
    "print(\"Amsterdam\", amsterdam_count)\n",
    "print(\"Barcelona\", barcelona_count)\n",
    "print(\"Berlin\", berlin_count)\n",
    "print(\"Bratislava\", bratislava_count)\n",
    "print(\"Brussels\", brussels_count)\n",
    "print(\"Budapest\", budapest_count)\n",
    "print(\"Copenhagen\", copenhagen_count)\n",
    "print(\"Dublin\", dublin_count)\n",
    "print(\"Edinburgh\", edinburgh_count)\n",
    "print(\"Geneva\", geneva_count)\n",
    "print(\"Hamburg\", hamburg_count)\n",
    "print(\"Helsinki\", helsinki_count)\n",
    "print(\"Krakow\", krakow_count)\n",
    "print(\"Lisbon\", lisbon_count)\n",
    "print(\"Ljubljana\", ljubljana_count)\n",
    "print(\"London\", london_count)\n",
    "print(\"Luxemborg\", luxembourg_count)\n",
    "print(\"Lyon\", lyon_count)\n",
    "print(\"Madrid\", madrid_count)\n",
    "print(\"Milan\", milan_count)\n",
    "print(\"Munich\", munich_count)\n",
    "print(\"Oporto\", oporto_count)\n",
    "print(\"Paris\", paris_count)\n",
    "print(\"Prague\", prague_count)\n",
    "print(\"Rome\", rome_count)\n",
    "print(\"Stockholm\", stockholm_count)\n",
    "print(\"Vienna\", vienna_count)\n",
    "print(\"Warsaw\", warsaw_count)\n",
    "print(\"Zurich\", zurich_count)"
   ]
  },
  {
   "cell_type": "code",
   "execution_count": 139,
   "metadata": {
    "scrolled": true
   },
   "outputs": [
    {
     "name": "stdout",
     "output_type": "stream",
     "text": [
      "('Ljubljana', 501)\n",
      "('Luxembourg', 657)\n",
      "('Bratislava', 1067)\n",
      "('Oslo', 1213)\n",
      "('Helsinki', 1228)\n",
      "('Krakow', 1354)\n",
      "('Geneva', 1572)\n",
      "('Oporto', 1580)\n",
      "('Zurich', 1667)\n",
      "('Edinburgh', 1865)\n",
      "('Athens', 1938)\n",
      "('Dublin', 2082)\n",
      "('Copenhagen', 2109)\n",
      "('Warsaw', 2352)\n",
      "('Budapest', 2606)\n",
      "('Stockholm', 2705)\n",
      "('Lyon', 2930)\n",
      "('Munich', 2995)\n",
      "('Hamburg', 3131)\n",
      "('Brussels', 3204)\n",
      "('Amsterdam', 3434)\n",
      "('Vienna', 3724)\n",
      "('Lisbon', 3986)\n",
      "('Prague', 4859)\n",
      "('Rome', 5949)\n",
      "('Milan', 6687)\n",
      "('Berlin', 7078)\n",
      "('Barcelona', 8425)\n",
      "('Madrid', 9543)\n",
      "('Paris', 14874)\n",
      "('London', 18212)\n"
     ]
    }
   ],
   "source": [
    "#Condensed way to get number of reviews per city\n",
    "import operator\n",
    "\n",
    "cities_dict = {}\n",
    "\n",
    "for cities in unique_cities:\n",
    "    cities_dict[cities] = 0\n",
    "    \n",
    "for review in ta:\n",
    "    if review['City'] in cities_dict.keys():\n",
    "        cities_dict[review['City']] += 1\n",
    "        \n",
    "sorted_cities = sorted(cities_dict.items(), key=operator.itemgetter(1))\n",
    "\n",
    "for item in sorted_cities:\n",
    "    print(item)"
   ]
  },
  {
   "cell_type": "markdown",
   "metadata": {},
   "source": [
    "#### Price range vs rating"
   ]
  },
  {
   "cell_type": "code",
   "execution_count": 170,
   "metadata": {},
   "outputs": [
    {
     "name": "stdout",
     "output_type": "stream",
     "text": [
      "There are 19005 reviews for $ restaurants: 72.83346487766377% are good and 5.666929755327545% are bad.\n",
      "There are 54360 reviews for $$ - $$$ restaurants: 70.5261221486387% are good and 2.9562178072111847% are bad.\n",
      "There are 4307 reviews for $$$$$ restaurants: 84.79219874622707% are good and 4.341769212909218% are bad.\n"
     ]
    }
   ],
   "source": [
    "cheap = []\n",
    "moderate = []\n",
    "expensive = []\n",
    "\n",
    "for review in ta:\n",
    "    if review['Price Range'] == '$':\n",
    "        cheap.append(review['Rating'])\n",
    "    elif review['Price Range'] == '$$ - $$$':\n",
    "        moderate.append(review['Rating'])\n",
    "    elif review['Price Range'] == '$$$$':\n",
    "        expensive.append(review['Rating'])\n",
    "\n",
    "cheap_bad = 0\n",
    "cheap_good = 0\n",
    "mod_bad = 0\n",
    "mod_good = 0\n",
    "exp_bad = 0\n",
    "exp_good = 0\n",
    "\n",
    "for review in cheap:\n",
    "    if review <= 2:\n",
    "        cheap_bad += 1\n",
    "    elif review >= 4:\n",
    "        cheap_good += 1\n",
    "\n",
    "for review in moderate:\n",
    "    if review <= 2:\n",
    "        mod_bad += 1\n",
    "    elif review >= 4:\n",
    "        mod_good += 1\n",
    "        \n",
    "for review in expensive:\n",
    "    if review <= 2:\n",
    "        exp_bad += 1\n",
    "    elif review >= 4:\n",
    "        exp_good += 1\n",
    "        \n",
    "cheap_bad_percent = (cheap_bad/len(cheap)*100)\n",
    "cheap_good_percent = (cheap_good/len(cheap)*100)\n",
    "mod_bad_percent = (mod_bad/len(moderate)*100)\n",
    "mod_good_percent = (mod_good/len(moderate)*100)\n",
    "exp_bad_percent = (exp_bad/len(expensive)*100)\n",
    "exp_good_percent = (exp_good/len(expensive)*100)\n",
    "        \n",
    "print(\"There are {} reviews for $ restaurants: {}% are good and {}% are bad.\".format(len(cheap),cheap_good_percent, cheap_bad_percent))\n",
    "print(\"There are {} reviews for $$ - $$$ restaurants: {}% are good and {}% are bad.\".format(len(moderate),mod_good_percent, mod_bad_percent))\n",
    "print(\"There are {} reviews for $$$$$ restaurants: {}% are good and {}% are bad.\".format(len(expensive),exp_good_percent, exp_bad_percent))"
   ]
  },
  {
   "cell_type": "markdown",
   "metadata": {},
   "source": [
    "#### Number of reviews vs rating"
   ]
  },
  {
   "cell_type": "code",
   "execution_count": 172,
   "metadata": {},
   "outputs": [],
   "source": [
    "import numpy as np"
   ]
  },
  {
   "cell_type": "code",
   "execution_count": 194,
   "metadata": {
    "scrolled": true
   },
   "outputs": [
    {
     "name": "stdout",
     "output_type": "stream",
     "text": [
      "average number of reviews 107.88823918360194\n",
      "median number of reviews 22.0\n",
      "largest number of reviews 16478.0\n",
      "smallest number of reviews 0.0\n"
     ]
    }
   ],
   "source": [
    "#To help determine what should be low, medium, and high number of reviews\n",
    "num_of_reviews = []\n",
    "\n",
    "for reviews in ta:\n",
    "    num_of_reviews.append(reviews['Number of Reviews'])\n",
    "    \n",
    "print(\"average number of reviews\",np.average(num_of_reviews))\n",
    "print(\"median number of reviews\",np.median(num_of_reviews))\n",
    "print(\"largest number of reviews\", max(num_of_reviews))\n",
    "print(\"smallest number of reviews\", min(num_of_reviews))"
   ]
  },
  {
   "cell_type": "code",
   "execution_count": 200,
   "metadata": {},
   "outputs": [
    {
     "name": "stdout",
     "output_type": "stream",
     "text": [
      "91893 restaurants had 82 or less reviews: 62.320307313941214% are good and 12.993372726975938% are bad.\n",
      "9407 restaurants had 83-132 reviews: 71.94642287658127% are good and 0.6165621345806315% are bad.\n",
      "24227 restaurants had 133 or more reviews: 75.9070458579271% are good and 0.4705493870475089% are bad.\n"
     ]
    }
   ],
   "source": [
    "low = []\n",
    "medium = []\n",
    "high = []\n",
    "\n",
    "for review in ta:\n",
    "    if review['Number of Reviews'] <= 82:\n",
    "        low.append(review['Rating'])\n",
    "    elif review['Number of Reviews'] >= 83 and review['Number of Reviews'] <= 132:\n",
    "        medium.append(review['Rating'])\n",
    "    elif review['Number of Reviews'] >= 133:\n",
    "        high.append(review['Rating'])\n",
    "        \n",
    "        \n",
    "low_bad = 0\n",
    "low_good = 0\n",
    "med_bad = 0\n",
    "med_good = 0\n",
    "high_bad = 0\n",
    "high_good = 0\n",
    "        \n",
    "for review in low:\n",
    "    if review <= 2:\n",
    "        low_bad += 1\n",
    "    elif review >= 4:\n",
    "        low_good += 1\n",
    "\n",
    "for review in medium:\n",
    "    if review <= 2:\n",
    "        med_bad += 1\n",
    "    elif review >= 4:\n",
    "        med_good += 1\n",
    "        \n",
    "for review in high:\n",
    "    if review <= 2:\n",
    "        high_bad += 1\n",
    "    elif review >= 4:\n",
    "        high_good += 1\n",
    "        \n",
    "        \n",
    "low_bad_percent = (low_bad/len(low)*100)\n",
    "low_good_percent = (low_good/len(low)*100)\n",
    "med_bad_percent = (med_bad/len(medium)*100)\n",
    "med_good_percent = (med_good/len(medium)*100)\n",
    "high_bad_percent = (high_bad/len(high)*100)\n",
    "high_good_percent = (high_good/len(high)*100)\n",
    "\n",
    "print(\"{} restaurants had 82 or less reviews: {}% are good and {}% are bad.\".format(len(low),low_good_percent, low_bad_percent))\n",
    "print(\"{} restaurants had 83-132 reviews: {}% are good and {}% are bad.\".format(len(medium),med_good_percent, med_bad_percent))\n",
    "print(\"{} restaurants had 133 or more reviews: {}% are good and {}% are bad.\".format(len(high),high_good_percent, high_bad_percent))"
   ]
  },
  {
   "cell_type": "markdown",
   "metadata": {},
   "source": [
    "#### Number of reviews vs price range"
   ]
  },
  {
   "cell_type": "code",
   "execution_count": 215,
   "metadata": {},
   "outputs": [
    {
     "name": "stdout",
     "output_type": "stream",
     "text": [
      "Cheap restaurants received 12.154572359645325% of the total reviews\n",
      "Moderate restaurants received 73.36691947588427% of the total reviews\n",
      "Expensive restaurants received 10.934647833951505% of the total reviews\n"
     ]
    }
   ],
   "source": [
    "cheap2 = []\n",
    "moderate2 = []\n",
    "expensive2 = []\n",
    "\n",
    "for review in ta:\n",
    "    if review['Price Range'] == '$':\n",
    "        cheap2.append(review['Number of Reviews'])\n",
    "    elif review['Price Range'] == '$$ - $$$':\n",
    "        moderate2.append(review['Number of Reviews'])\n",
    "    elif review['Price Range'] == '$$$$':\n",
    "        expensive2.append(review['Number of Reviews'])\n",
    "        \n",
    "perc_reviews_cheap = (sum(cheap2)) / (sum(num_of_reviews))*100\n",
    "perc_reviews_moderate = (sum(moderate2)/sum(num_of_reviews))*100\n",
    "perc_reviews_expensive = (sum(expensive2)/sum(num_of_reviews))*100\n",
    "\n",
    "print(\"Cheap restaurants received {}% of the total reviews\".format(perc_reviews_cheap))\n",
    "print(\"Moderate restaurants received {}% of the total reviews\".format(perc_reviews_moderate))\n",
    "print(\"Expensive restaurants received {}% of the total reviews\".format(perc_reviews_expensive))"
   ]
  }
 ],
 "metadata": {
  "kernelspec": {
   "display_name": "Python 3",
   "language": "python",
   "name": "python3"
  },
  "language_info": {
   "codemirror_mode": {
    "name": "ipython",
    "version": 3
   },
   "file_extension": ".py",
   "mimetype": "text/x-python",
   "name": "python",
   "nbconvert_exporter": "python",
   "pygments_lexer": "ipython3",
   "version": "3.6.4"
  }
 },
 "nbformat": 4,
 "nbformat_minor": 2
}
